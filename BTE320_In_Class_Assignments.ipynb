{
  "nbformat": 4,
  "nbformat_minor": 0,
  "metadata": {
    "colab": {
      "provenance": [],
      "authorship_tag": "ABX9TyPj1Q982TuS+Vu+/osrW44R",
      "include_colab_link": true
    },
    "kernelspec": {
      "name": "python3",
      "display_name": "Python 3"
    },
    "language_info": {
      "name": "python"
    }
  },
  "cells": [
    {
      "cell_type": "markdown",
      "metadata": {
        "id": "view-in-github",
        "colab_type": "text"
      },
      "source": [
        "<a href=\"https://colab.research.google.com/github/jemmaburns1/jemma/blob/main/BTE320_In_Class_Assignments.ipynb\" target=\"_parent\"><img src=\"https://colab.research.google.com/assets/colab-badge.svg\" alt=\"Open In Colab\"/></a>"
      ]
    },
    {
      "cell_type": "code",
      "execution_count": 29,
      "metadata": {
        "colab": {
          "base_uri": "https://localhost:8080/"
        },
        "id": "fP-IDdbJgcUI",
        "outputId": "0f802b9b-1b44-4238-aba8-09b41543f314"
      },
      "outputs": [
        {
          "output_type": "stream",
          "name": "stdout",
          "text": [
            "Enter Sales ($):12000\n",
            "Enter Cost of Goods Sold (%):40\n",
            "Enter tax rate (%):30\n",
            "Cost of Goods Sold : $4800.0\n",
            "Gross Profit : $7200.0\n",
            "Taxes : $2160.0\n",
            "Net Income : $5040.0\n"
          ]
        }
      ],
      "source": [
        "#inputs provided from instructions : sales, cogs_pct, and tax rate\n",
        "sales = input(\"Enter Sales ($):\")\n",
        "sales = float(sales)\n",
        "\n",
        "cogs_pct = input(\"Enter Cost of Goods Sold (%):\")\n",
        "cogs_pct = float(cogs_pct)\n",
        "\n",
        "tax_pct = input(\"Enter tax rate (%):\")\n",
        "tax_pct = float(tax_pct)\n",
        "\n",
        "#Processes : calculate actual cost of goods sold, taxes, and net income\n",
        "cogs = sales * cogs_pct / 100\n",
        "#Calculate gross profit\n",
        "gross_profit = sales - cogs\n",
        "#calculate tax\n",
        "tax = gross_profit * tax_pct / 100\n",
        "#calculate net income\n",
        "net_income = gross_profit - tax\n",
        "\n",
        "#Outputs - display cogs & gross profit\n",
        "print(f\"Cost of Goods Sold : ${cogs}\")\n",
        "print(f\"Gross Profit : ${gross_profit}\")\n",
        "print(f\"Taxes : ${tax}\")\n",
        "print(f\"Net Income : ${net_income}\")"
      ]
    },
    {
      "cell_type": "code",
      "source": [],
      "metadata": {
        "id": "mwj0l_-Klmcr"
      },
      "execution_count": null,
      "outputs": []
    }
  ]
}