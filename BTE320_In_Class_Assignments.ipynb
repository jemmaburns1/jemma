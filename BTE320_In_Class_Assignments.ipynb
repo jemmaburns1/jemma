{
  "nbformat": 4,
  "nbformat_minor": 0,
  "metadata": {
    "colab": {
      "provenance": [],
      "authorship_tag": "ABX9TyMgQGe6Pv54356JooK/Y6Xb",
      "include_colab_link": true
    },
    "kernelspec": {
      "name": "python3",
      "display_name": "Python 3"
    },
    "language_info": {
      "name": "python"
    }
  },
  "cells": [
    {
      "cell_type": "markdown",
      "metadata": {
        "id": "view-in-github",
        "colab_type": "text"
      },
      "source": [
        "<a href=\"https://colab.research.google.com/github/jemmaburns1/jemma/blob/main/BTE320_In_Class_Assignments.ipynb\" target=\"_parent\"><img src=\"https://colab.research.google.com/assets/colab-badge.svg\" alt=\"Open In Colab\"/></a>"
      ]
    },
    {
      "cell_type": "markdown",
      "source": [
        "Income Statement Problem"
      ],
      "metadata": {
        "id": "DLqG9xVAjoS2"
      }
    },
    {
      "cell_type": "code",
      "execution_count": null,
      "metadata": {
        "colab": {
          "base_uri": "https://localhost:8080/"
        },
        "id": "fP-IDdbJgcUI",
        "outputId": "0f802b9b-1b44-4238-aba8-09b41543f314"
      },
      "outputs": [
        {
          "output_type": "stream",
          "name": "stdout",
          "text": [
            "Enter Sales ($):12000\n",
            "Enter Cost of Goods Sold (%):40\n",
            "Enter tax rate (%):30\n",
            "Cost of Goods Sold : $4800.0\n",
            "Gross Profit : $7200.0\n",
            "Taxes : $2160.0\n",
            "Net Income : $5040.0\n"
          ]
        }
      ],
      "source": [
        "#inputs provided from instructions : sales, cogs_pct, and tax rate\n",
        "sales = input(\"Enter Sales ($):\")\n",
        "sales = float(sales)\n",
        "\n",
        "cogs_pct = input(\"Enter Cost of Goods Sold (%):\")\n",
        "cogs_pct = float(cogs_pct)\n",
        "\n",
        "tax_pct = input(\"Enter tax rate (%):\")\n",
        "tax_pct = float(tax_pct)\n",
        "\n",
        "#Processes : calculate actual cost of goods sold, taxes, and net income\n",
        "cogs = sales * cogs_pct / 100\n",
        "#Calculate gross profit\n",
        "gross_profit = sales - cogs\n",
        "#calculate tax\n",
        "tax = gross_profit * tax_pct / 100\n",
        "#calculate net income\n",
        "net_income = gross_profit - tax\n",
        "\n",
        "#Outputs - display cogs & gross profit\n",
        "print(f\"Cost of Goods Sold : ${cogs}\")\n",
        "print(f\"Gross Profit : ${gross_profit}\")\n",
        "print(f\"Taxes : ${tax}\")\n",
        "print(f\"Net Income : ${net_income}\")"
      ]
    },
    {
      "cell_type": "markdown",
      "source": [
        "Income Statement Calculation"
      ],
      "metadata": {
        "id": "-gC3zwowjraL"
      }
    },
    {
      "cell_type": "code",
      "source": [
        "#inventory management problem\n",
        "#Given following assumptions\n",
        "#D -> annual demand (units/year)\n",
        "#S -> reorder cost ($/order)\n",
        "#H = holding coat ($/unit/year)\n",
        "#then EOQ = sqrt(2*D*S/H)\n",
        "#Calculate how much of the item to reorder to minimize annual ordering and storing costs\n",
        "\n",
        "#Inputs\n",
        "demand = input('Enter demand (units/year): ')\n",
        "demand = float(demand)                            #float or int is good in this case\n",
        "\n",
        "reorder = input('Enter reorder cost ($/order): ')\n",
        "reorder = float (reorder)                         #float this time\n",
        "\n",
        "holding = input('Price per Unit per Year : ')\n",
        "holding = float(holding)                          #also float this time\n",
        "\n",
        "#Calculate EOQ (processes)\n",
        "eoq = ((2* demand * reorder)/ holding) ** 0.5          #square root of something is the same as something to power of 1/2\n",
        "\n",
        "#Output\n",
        "print(f\"EOQ : {eoq} units\")"
      ],
      "metadata": {
        "id": "mwj0l_-Klmcr",
        "colab": {
          "base_uri": "https://localhost:8080/"
        },
        "outputId": "4f8c343e-e382-4e9a-bb9e-289f806e2599"
      },
      "execution_count": null,
      "outputs": [
        {
          "output_type": "stream",
          "name": "stdout",
          "text": [
            "Enter demand (units/year): 100\n",
            "Enter reorder cost ($/order): 1.5\n",
            "Price per Unit per Year : 3\n",
            "EOQ : 10.0 units\n"
          ]
        }
      ]
    },
    {
      "cell_type": "code",
      "source": [
        "#inventory management problem\n",
        "#Given following assumptions\n",
        "#D -> annual demand (units/year)\n",
        "#S -> reorder cost ($/order)\n",
        "#H = holding coat ($/unit/year)\n",
        "#then EOQ = sqrt(2*D*S/H)\n",
        "#Calculate how much of the item to reorder to minimize annual ordering and storing costs\n",
        "\n",
        "import math\n",
        "\n",
        "Annual_Demand = input('Enter demand(units / year : ')\n",
        "Annual_Demand = float(Annual_Demand)\n",
        "\n",
        "Reorder_Cost = input('Price per Order')\n",
        "Reorder_Cost = float (Reorder_Cost)\n",
        "\n",
        "Holding_cost = input('Price per Unit per Year')\n",
        "Holding_cost = float(Holding_cost)\n",
        "\n",
        "#Calculate EOQ\n",
        "EOQ = math.sqrt(2*Annual_Demand*Reorder_Cost/Holding_cost)\n",
        "\n",
        "print(f\"EOQ : {EOQ} units\")"
      ],
      "metadata": {
        "id": "wiDITHnpOxoM",
        "colab": {
          "base_uri": "https://localhost:8080/"
        },
        "outputId": "0114a864-273c-4210-ac08-1ec283fdbdcd"
      },
      "execution_count": null,
      "outputs": [
        {
          "output_type": "stream",
          "name": "stdout",
          "text": [
            "Enter demand(units / year : 100\n",
            "Price per Order1.5\n",
            "Price per Unit per Year3\n",
            "EOQ : 10.0 units\n"
          ]
        }
      ]
    },
    {
      "cell_type": "markdown",
      "source": [
        "Numerical Calculator"
      ],
      "metadata": {
        "id": "36hokhoGjyba"
      }
    },
    {
      "cell_type": "code",
      "source": [
        "#needs to provide 3 inputs - 2 numbers and mathematical operator of choice\n",
        "\n",
        "number_1 = float(input(\"Enter number_1 : \"))\n",
        "number_2 = float(input('Enter number_2 : '))\n",
        "operator = input (\"Enter operator (+,-,*,/,//,**,%) : \")\n",
        "\n",
        "#create conditional statements\n",
        "\n",
        "if operator == \"+\":\n",
        "  result = number_1 + number_2\n",
        "elif operator == \"-\":\n",
        "  result = number_1 - number_2\n",
        "elif operator == '*':\n",
        "  result = number_1 * number_2\n",
        "elif operator == '/':\n",
        "  result = number_1 / number_2\n",
        "elif operator == '//':\n",
        "  result = number_1 // number_2\n",
        "elif operator == '**':\n",
        "  result = number_1 // number_2\n",
        "elif operator == '%':\n",
        "  result = number_1 % number_2\n",
        "else:\n",
        "  print(\"Invalid Operator\")\n",
        "\n",
        "\n",
        "print(f'result: {result}')\n"
      ],
      "metadata": {
        "colab": {
          "base_uri": "https://localhost:8080/"
        },
        "id": "SIqG4AXbL10G",
        "outputId": "b46665c9-e808-4041-8d77-a19f2c689a14"
      },
      "execution_count": null,
      "outputs": [
        {
          "output_type": "stream",
          "name": "stdout",
          "text": [
            "Enter number_1 : 4\n",
            "Enter number_2 : 5\n",
            "Enter operator (+,-,*,/,//,**,%) : *\n",
            "result: 20.0\n"
          ]
        }
      ]
    },
    {
      "cell_type": "markdown",
      "source": [
        "Parking Garage"
      ],
      "metadata": {
        "id": "0_B2f0Aej1kq"
      }
    },
    {
      "cell_type": "code",
      "source": [
        "\n",
        "#charges $5 + $2.50 per each hour parked\n",
        "#write a program that prints the number of hours parked and the corresponding fee side-by-side, from 1 to 8 hours\n",
        "\n",
        "#for hour in range(1,9):\n",
        " # fee = 5 + 2.5*hour\n",
        " # print(f\"{hour} {fee}\")\n",
        "\n",
        "#bonus question - minimum fee is $10 and maximum fee is $20\n",
        "\n",
        "print(\"Hours  Fees\")\n",
        "for hour in range(1,9):\n",
        "  fee = 5 + 2.5 * hour\n",
        "  if fee < 10 :\n",
        "    fee = 10.0\n",
        "  elif fee > 20 :\n",
        "    fee = 20.0\n",
        "  print(f\"{hour}\\t{fee}\")"
      ],
      "metadata": {
        "colab": {
          "base_uri": "https://localhost:8080/"
        },
        "id": "MnztzvYTgUTX",
        "outputId": "ceb423a3-280f-4d62-cd42-0a167f80fce9"
      },
      "execution_count": null,
      "outputs": [
        {
          "output_type": "stream",
          "name": "stdout",
          "text": [
            "Hours  Fees\n",
            "1\t10.0\n",
            "2\t10.0\n",
            "3\t12.5\n",
            "4\t15.0\n",
            "5\t17.5\n",
            "6\t20.0\n",
            "7\t20.0\n",
            "8\t20.0\n"
          ]
        }
      ]
    },
    {
      "cell_type": "code",
      "source": [
        "hour = 1\n",
        "while hour < 9 :\n",
        "  fee = 5 + 2.5 * hour\n",
        "  if fee < 10 :\n",
        "    fee = 10.0\n",
        "  elif fee > 20 :\n",
        "    fee = 20.0\n",
        "  print(f\"{hour}\\t{fee}\")\n",
        "  hour = hour + 1"
      ],
      "metadata": {
        "colab": {
          "base_uri": "https://localhost:8080/"
        },
        "id": "R3rBHxOPsryD",
        "outputId": "f828c004-1cbb-4a21-9aca-56079348d94c"
      },
      "execution_count": null,
      "outputs": [
        {
          "output_type": "stream",
          "name": "stdout",
          "text": [
            "1\t10.0\n",
            "2\t10.0\n",
            "3\t12.5\n",
            "4\t15.0\n",
            "5\t17.5\n",
            "6\t20.0\n",
            "7\t20.0\n",
            "8\t20.0\n"
          ]
        }
      ]
    },
    {
      "cell_type": "markdown",
      "source": [
        "Movie Theater"
      ],
      "metadata": {
        "id": "DQtk_nLzj71k"
      }
    },
    {
      "cell_type": "code",
      "source": [
        "#stop value in range is 201 bc you have to go 1 more\n",
        "\n",
        "for ad in range(0, 201, 25):\n",
        "  revenue = 20 * 10 + 10 * 2 * ad ** 0.5\n",
        "  expenses = 200 + ad\n",
        "  profit = revenue - expenses\n",
        "  print(ad, round(profit,2))"
      ],
      "metadata": {
        "colab": {
          "base_uri": "https://localhost:8080/"
        },
        "id": "qKmZXM0zPEA0",
        "outputId": "88ee88a7-96d7-4fde-c952-5ab48302cf72"
      },
      "execution_count": null,
      "outputs": [
        {
          "output_type": "stream",
          "name": "stdout",
          "text": [
            "0 0.0\n",
            "25 75.0\n",
            "50 91.42\n",
            "75 98.21\n",
            "100 100.0\n",
            "125 98.61\n",
            "150 94.95\n",
            "175 89.58\n",
            "200 82.84\n"
          ]
        }
      ]
    },
    {
      "cell_type": "markdown",
      "source": [
        "Append items to list iteratively"
      ],
      "metadata": {
        "id": "c2gWwphZufNT"
      }
    },
    {
      "cell_type": "code",
      "source": [
        "empty = []\n",
        "num = float(input('Enter number : '))\n",
        "#going to use while loop bc you dont know how many values until 0 - need condition, how var is initialized, and how its updated in loop\n",
        "\n",
        "while num != 0 :\n",
        "  empty.append(num)\n",
        "  num = float(input('Enter number : '))\n",
        "\n",
        "empty.sort(reverse=True)\n",
        "print(empty)\n"
      ],
      "metadata": {
        "colab": {
          "base_uri": "https://localhost:8080/"
        },
        "id": "236HKSknuhwB",
        "outputId": "2b1180a6-4c1d-4d24-c0dc-cd06396776c6"
      },
      "execution_count": 6,
      "outputs": [
        {
          "output_type": "stream",
          "name": "stdout",
          "text": [
            "Enter number : 5\n",
            "Enter number : 0\n",
            "[5.0]\n"
          ]
        }
      ]
    }
  ]
}